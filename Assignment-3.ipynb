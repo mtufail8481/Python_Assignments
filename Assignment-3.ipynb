{
 "cells": [
  {
   "cell_type": "code",
   "execution_count": 8,
   "metadata": {},
   "outputs": [
    {
     "name": "stdout",
     "output_type": "stream",
     "text": [
      "Enter First Number 4\n",
      "Enter Second Number 8\n",
      "Enter Operator +\n",
      "12.0\n"
     ]
    }
   ],
   "source": [
    "# A3-1 (calculator)\n",
    "a = float(input(\"Enter First Number \"))\n",
    "b = float(input(\"Enter Second Number \"))\n",
    "c = input(\"Enter Operator \")\n",
    "\n",
    "if c == '+':\n",
    "   o = a + b\n",
    "elif c == '-':\n",
    "    o = a - b\n",
    "elif c== '*':\n",
    "    o = a * b\n",
    "elif c == '/':\n",
    "    o = a / b\n",
    "else:\n",
    "    o = 'Illegal Operator'\n",
    "print(o)    "
   ]
  },
  {
   "cell_type": "code",
   "execution_count": 31,
   "metadata": {},
   "outputs": [
    {
     "name": "stdout",
     "output_type": "stream",
     "text": [
      "List contains numeric value(s)\n"
     ]
    }
   ],
   "source": [
    "# A3-2 (whether lsit contains any numeric value)\n",
    "count = 0\n",
    "numeric_types = [int, float, complex]\n",
    "list = [1,'tufail',2,'muhammad']\n",
    "for i in  list:\n",
    "   if type(i) in numeric_types:\n",
    "    count = count + 1\n",
    "if count > 0: \n",
    "   print('List contains numeric value(s)')\n",
    "else:\n",
    "  print('No Numeric Values')"
   ]
  },
  {
   "cell_type": "code",
   "execution_count": 36,
   "metadata": {},
   "outputs": [
    {
     "name": "stdout",
     "output_type": "stream",
     "text": [
      "{'Name': 'Tufail', 'Address': 'Clifton'}\n",
      "{'Name': 'Tufail', 'Address': 'Clifton', 'contact_no': '1234567'}\n"
     ]
    }
   ],
   "source": [
    "# A3-3 (add a key to dictionary)\n",
    "dic = {\"Name\" : 'Tufail',\n",
    "        \"Address\":\"Clifton\"}\n",
    "print(dic)\n",
    "dic[\"contact_no\"] = \"1234567\"\n",
    "print(dic)"
   ]
  },
  {
   "cell_type": "code",
   "execution_count": 41,
   "metadata": {},
   "outputs": [
    {
     "name": "stdout",
     "output_type": "stream",
     "text": [
      "10\n"
     ]
    }
   ],
   "source": [
    "# A3-4 (sum of all numeric values in dictionary)\n",
    "dic = {\"First Number\" : 1,\n",
    "        \"Second Number\":5,\n",
    "       \"Third  Number\":4}\n",
    "print(sum(dic.values()))"
   ]
  },
  {
   "cell_type": "code",
   "execution_count": 8,
   "metadata": {},
   "outputs": [
    {
     "data": {
      "text/plain": [
       "{1, 4, 5}"
      ]
     },
     "execution_count": 8,
     "metadata": {},
     "output_type": "execute_result"
    }
   ],
   "source": [
    "# A3-5 (identify duplicate values in list) \n",
    "l = [1,2,3,4,4,5,5,6,1]\n",
    "set([x for x in l if l.count(x) > 1])"
   ]
  },
  {
   "cell_type": "code",
   "execution_count": 14,
   "metadata": {},
   "outputs": [
    {
     "name": "stdout",
     "output_type": "stream",
     "text": [
      "Enter Key Z\n",
      "Exists\n"
     ]
    }
   ],
   "source": [
    "# A3-6 (to check whether key exists in dictionary)\n",
    "dic = {\"A\" : 1,\n",
    "        \"b\":5,\n",
    "       \"Z\":4}\n",
    "key = input('Enter Key ');\n",
    "if key in dic:\n",
    "    print('Exists')\n",
    "else:\n",
    "    print('Not Exists')\n"
   ]
  }
 ],
 "metadata": {
  "kernelspec": {
   "display_name": "Python 3",
   "language": "python",
   "name": "python3"
  },
  "language_info": {
   "codemirror_mode": {
    "name": "ipython",
    "version": 3
   },
   "file_extension": ".py",
   "mimetype": "text/x-python",
   "name": "python",
   "nbconvert_exporter": "python",
   "pygments_lexer": "ipython3",
   "version": "3.7.4"
  }
 },
 "nbformat": 4,
 "nbformat_minor": 2
}
