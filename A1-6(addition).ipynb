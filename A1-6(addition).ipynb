{
 "cells": [
  {
   "cell_type": "code",
   "execution_count": 10,
   "metadata": {},
   "outputs": [
    {
     "name": "stdout",
     "output_type": "stream",
     "text": [
      "Enter First Number 2\n",
      "Enter Second Number 2\n",
      "4\n",
      "the sum of 2 and 2 is 4\n"
     ]
    }
   ],
   "source": [
    "v_1 = int(input('Enter First Number '));\n",
    "v_2 = int(input('Enter Second Number '));\n",
    "print(v_1 + v_2);\n",
    "print('the sum of {0} and {1} is {2}'.format(v_1, v_2, v_1 + v_2))"
   ]
  },
  {
   "cell_type": "code",
   "execution_count": null,
   "metadata": {},
   "outputs": [],
   "source": []
  }
 ],
 "metadata": {
  "kernelspec": {
   "display_name": "Python 3",
   "language": "python",
   "name": "python3"
  },
  "language_info": {
   "codemirror_mode": {
    "name": "ipython",
    "version": 3
   },
   "file_extension": ".py",
   "mimetype": "text/x-python",
   "name": "python",
   "nbconvert_exporter": "python",
   "pygments_lexer": "ipython3",
   "version": "3.7.4"
  }
 },
 "nbformat": 4,
 "nbformat_minor": 2
}
