{
 "cells": [
  {
   "cell_type": "code",
   "execution_count": 1,
   "metadata": {},
   "outputs": [
    {
     "name": "stdout",
     "output_type": "stream",
     "text": [
      "Enter 1st Number50\n",
      "Enter 2nd Nudmber70\n",
      "Enter 3rd Number66\n",
      "Enter 4th Number78\n",
      "Enter 5th Number77\n",
      "Total marks out of 500: 341.0\n",
      "Your grade is B\n"
     ]
    }
   ],
   "source": [
    "# A2-1(Mark_Sheet)\n",
    "v_1 = float(input('Enter 1st Number'));\n",
    "v_2 = float(input('Enter 2nd Nudmber'));\n",
    "v_3 = float(input('Enter 3rd Number'));\n",
    "v_4 = float(input('Enter 4th Number'));\n",
    "v_5 = float(input('Enter 5th Number'));\n",
    "v_total = v_1 + v_2 + v_3 + v_4 + v_5;\n",
    "print ('Total marks out of 500:', v_total);\n",
    "v_per = (v_total*100)/500;\n",
    "if v_per > 80 :\n",
    "    v_grade = 'A+';\n",
    "elif v_per >=70 and v_per < 80 :     \n",
    "    v_grade = 'A';\n",
    "elif v_per >=60 and v_per < 70 :     \n",
    "    v_grade = 'B';\n",
    "elif v_per >=50 and v_per < 60 :     \n",
    "    v_grade = 'C';    \n",
    "elif v_per >=33 and v_per < 50 :     \n",
    "    v_grade = 'D';        \n",
    "else :   \n",
    "    v_grade = 'F';  \n",
    "    #print('testing');\n",
    "print ('Your grade is',v_grade);"
   ]
  },
  {
   "cell_type": "code",
   "execution_count": 2,
   "metadata": {},
   "outputs": [
    {
     "name": "stdout",
     "output_type": "stream",
     "text": [
      "Enter Number: 4\n",
      "Even Number\n"
     ]
    }
   ],
   "source": [
    "# A2-2(Odd_Even-Number)\n",
    "v_1 = int(input('Enter Number: '))\n",
    "if v_1%2 == 0 :\n",
    "    print('Even Number')\n",
    "else :\n",
    "   print('Odd Number')"
   ]
  },
  {
   "cell_type": "code",
   "execution_count": 3,
   "metadata": {},
   "outputs": [
    {
     "name": "stdout",
     "output_type": "stream",
     "text": [
      "Length of list is 7\n"
     ]
    }
   ],
   "source": [
    "# A2-3 (Length of List)\n",
    "a =[1,2,3,4,5,6,7]\n",
    "b = len(a)\n",
    "print('Length of list is',b)"
   ]
  },
  {
   "cell_type": "code",
   "execution_count": 4,
   "metadata": {},
   "outputs": [
    {
     "name": "stdout",
     "output_type": "stream",
     "text": [
      "Sum of list is:  28\n"
     ]
    }
   ],
   "source": [
    "# A2-4(sum of list)\n",
    "a =[1,2,3,4,5,6,7]\n",
    "b = sum(a)\n",
    "print('Sum of list is: ',b)"
   ]
  },
  {
   "cell_type": "code",
   "execution_count": 5,
   "metadata": {},
   "outputs": [
    {
     "name": "stdout",
     "output_type": "stream",
     "text": [
      "Largest element of list is:  71\n"
     ]
    }
   ],
   "source": [
    "# A2-5(Largest number in List)\n",
    "a =[1,2,3,4,5,6,71,0,8,9,66]\n",
    "b = max(a)\n",
    "print('Largest element of list is: ',b)"
   ]
  },
  {
   "cell_type": "code",
   "execution_count": 10,
   "metadata": {},
   "outputs": [
    {
     "name": "stdout",
     "output_type": "stream",
     "text": [
      "List: [ 2  3  4  5  9 89 99  0 86]\n",
      "Final Ouput: [2 3 4 5 0]\n"
     ]
    }
   ],
   "source": [
    "# A2-6(list which are less than 5)\n",
    "import numpy as np\n",
    "num_list = np.array([2,3,4,5,9,89,99,0,86])\n",
    "sel_list = num_list[num_list<=5]\n",
    "print('List:',num_list)\n",
    "print('Final Ouput:',sel_list)"
   ]
  }
 ],
 "metadata": {
  "kernelspec": {
   "display_name": "Python 3",
   "language": "python",
   "name": "python3"
  },
  "language_info": {
   "codemirror_mode": {
    "name": "ipython",
    "version": 3
   },
   "file_extension": ".py",
   "mimetype": "text/x-python",
   "name": "python",
   "nbconvert_exporter": "python",
   "pygments_lexer": "ipython3",
   "version": "3.7.4"
  }
 },
 "nbformat": 4,
 "nbformat_minor": 2
}
