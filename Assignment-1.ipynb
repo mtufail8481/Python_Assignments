{
 "cells": [
  {
   "cell_type": "code",
   "execution_count": 1,
   "metadata": {},
   "outputs": [
    {
     "name": "stdout",
     "output_type": "stream",
     "text": [
      "Twinkle, twinkle, little star,\n",
      "        How I wonder what you are!\n",
      "                   Up above the world so high,\n",
      "                   lika a diamond in the sky.\n",
      "Twinkle, twinkle, little star,\n",
      "        How I wonder what you are\n"
     ]
    }
   ],
   "source": [
    "# A1-1 (print multi line text)\n",
    "print ('''Twinkle, twinkle, little star,\n",
    "        How I wonder what you are!\n",
    "                   Up above the world so high,\n",
    "                   lika a diamond in the sky.\n",
    "Twinkle, twinkle, little star,\n",
    "        How I wonder what you are''')"
   ]
  },
  {
   "cell_type": "code",
   "execution_count": 2,
   "metadata": {},
   "outputs": [
    {
     "name": "stdout",
     "output_type": "stream",
     "text": [
      "3.7.4 (default, Aug  9 2019, 18:22:51) [MSC v.1915 32 bit (Intel)]\n"
     ]
    }
   ],
   "source": [
    "# A1-2(Python_Version)\n",
    "import sys\n",
    "print(sys.version)"
   ]
  },
  {
   "cell_type": "code",
   "execution_count": 3,
   "metadata": {},
   "outputs": [
    {
     "name": "stdout",
     "output_type": "stream",
     "text": [
      "now = 2019-11-21 20:46:44.757355\n",
      "date and time = 21/11/2019 20:46:44\n"
     ]
    }
   ],
   "source": [
    "# A1-3(Current-Date_Time)\n",
    "from datetime import datetime\n",
    "# datetime object containing current date and time\n",
    "now = datetime.now()\n",
    " \n",
    "print(\"now =\", now)\n",
    "# dd/mm/YY H:M:S\n",
    "dt_string = now.strftime(\"%d/%m/%Y %H:%M:%S\")\n",
    "print(\"date and time =\", dt_string)"
   ]
  },
  {
   "cell_type": "code",
   "execution_count": 4,
   "metadata": {},
   "outputs": [
    {
     "name": "stdout",
     "output_type": "stream",
     "text": [
      "Enter the radius of the circle :3\n",
      "Area of the circle is : 28.27\n"
     ]
    }
   ],
   "source": [
    "# A1-4(Area_Circle)\n",
    "import math\n",
    "\n",
    "r = float(input('Enter the radius of the circle :'))\n",
    "area = math.pi * r * r\n",
    "\n",
    "print(\"Area of the circle is : %.2f\" %area)"
   ]
  },
  {
   "cell_type": "code",
   "execution_count": 5,
   "metadata": {},
   "outputs": [
    {
     "name": "stdout",
     "output_type": "stream",
     "text": [
      "Enter First Name Muhammad\n",
      "Enter Last Name Tufail\n",
      "Tufail Muhammad\n"
     ]
    }
   ],
   "source": [
    "# A1-5(First_Last_Name)\n",
    "v_first_name = input('Enter First Name ');\n",
    "v_last_name = input('Enter Last Name ');\n",
    "print(v_last_name + ' ' + v_first_name);"
   ]
  },
  {
   "cell_type": "code",
   "execution_count": 6,
   "metadata": {},
   "outputs": [
    {
     "name": "stdout",
     "output_type": "stream",
     "text": [
      "Enter First Number 4\n",
      "Enter Second Number 5\n",
      "9\n",
      "the sum of 4 and 5 is 9\n"
     ]
    }
   ],
   "source": [
    "# A1-6(addition)\n",
    "v_1 = int(input('Enter First Number '));\n",
    "v_2 = int(input('Enter Second Number '));\n",
    "print(v_1 + v_2);\n",
    "print('the sum of {0} and {1} is {2}'.format(v_1, v_2, v_1 + v_2))"
   ]
  }
 ],
 "metadata": {
  "kernelspec": {
   "display_name": "Python 3",
   "language": "python",
   "name": "python3"
  },
  "language_info": {
   "codemirror_mode": {
    "name": "ipython",
    "version": 3
   },
   "file_extension": ".py",
   "mimetype": "text/x-python",
   "name": "python",
   "nbconvert_exporter": "python",
   "pygments_lexer": "ipython3",
   "version": "3.7.4"
  }
 },
 "nbformat": 4,
 "nbformat_minor": 2
}
