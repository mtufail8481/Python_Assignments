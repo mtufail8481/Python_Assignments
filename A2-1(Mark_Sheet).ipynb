{
 "cells": [
  {
   "cell_type": "code",
   "execution_count": 19,
   "metadata": {},
   "outputs": [
    {
     "name": "stdout",
     "output_type": "stream",
     "text": [
      "Enter 1st Number1\n",
      "Enter 2nd Nudmber2\n",
      "Enter 3rd Number3\n",
      "Enter 4th Number4\n",
      "Enter 5th Number5\n",
      "Total marks out of 500: 15.0\n",
      "Your grade is F\n"
     ]
    }
   ],
   "source": [
    "v_1 = float(input('Enter 1st Number'));\n",
    "v_2 = float(input('Enter 2nd Nudmber'));\n",
    "v_3 = float(input('Enter 3rd Number'));\n",
    "v_4 = float(input('Enter 4th Number'));\n",
    "v_5 = float(input('Enter 5th Number'));\n",
    "v_total = v_1 + v_2 + v_3 + v_4 + v_5;\n",
    "print ('Total marks out of 500:', v_total);\n",
    "v_per = (v_total*100)/500;\n",
    "if v_per > 80 :\n",
    "    v_grade = 'A+';\n",
    "elif v_per >=70 and v_per < 80 :     \n",
    "    v_grade = 'A';\n",
    "elif v_per >=60 and v_per < 70 :     \n",
    "    v_grade = 'B';\n",
    "elif v_per >=50 and v_per < 60 :     \n",
    "    v_grade = 'C';    \n",
    "elif v_per >=33 and v_per < 50 :     \n",
    "    v_grade = 'D';        \n",
    "else :   \n",
    "    v_grade = 'F';  \n",
    "    #print('testing');\n",
    "print ('Your grade is',v_grade);\n"
   ]
  },
  {
   "cell_type": "code",
   "execution_count": null,
   "metadata": {},
   "outputs": [],
   "source": []
  },
  {
   "cell_type": "code",
   "execution_count": null,
   "metadata": {},
   "outputs": [],
   "source": []
  }
 ],
 "metadata": {
  "kernelspec": {
   "display_name": "Python 3",
   "language": "python",
   "name": "python3"
  },
  "language_info": {
   "codemirror_mode": {
    "name": "ipython",
    "version": 3
   },
   "file_extension": ".py",
   "mimetype": "text/x-python",
   "name": "python",
   "nbconvert_exporter": "python",
   "pygments_lexer": "ipython3",
   "version": "3.7.4"
  }
 },
 "nbformat": 4,
 "nbformat_minor": 2
}
